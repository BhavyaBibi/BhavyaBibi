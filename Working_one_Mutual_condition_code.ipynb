{
  "nbformat": 4,
  "nbformat_minor": 0,
  "metadata": {
    "colab": {
      "provenance": [],
      "mount_file_id": "1OKBuope76S4iLMebL0HjHZi6h8BgO6iR",
      "authorship_tag": "ABX9TyPPHiSFQpjOfAzuoJFfapca",
      "include_colab_link": true
    },
    "kernelspec": {
      "name": "python3",
      "display_name": "Python 3"
    },
    "language_info": {
      "name": "python"
    }
  },
  "cells": [
    {
      "cell_type": "markdown",
      "metadata": {
        "id": "view-in-github",
        "colab_type": "text"
      },
      "source": [
        "<a href=\"https://colab.research.google.com/github/BhavyaBibi/BhavyaBibi/blob/main/Working_one_Mutual_condition_code.ipynb\" target=\"_parent\"><img src=\"https://colab.research.google.com/assets/colab-badge.svg\" alt=\"Open In Colab\"/></a>"
      ]
    },
    {
      "cell_type": "code",
      "execution_count": 4,
      "metadata": {
        "colab": {
          "base_uri": "https://localhost:8080/"
        },
        "id": "Bf4BGN-yYOMG",
        "outputId": "49235042-aa4f-4659-adaa-6fc811273802"
      },
      "outputs": [
        {
          "output_type": "stream",
          "name": "stdout",
          "text": [
            "Mutual meetings saved to mutual_meetings.xlsx\n"
          ]
        }
      ],
      "source": [
        "import pandas as pd\n",
        "\n",
        "# Load Excel files\n",
        "sponsors_file = \"sponsors.xlsx\"  # Update with actual path\n",
        "delegates_file = \"Delegate.xlsx\"  # Update with actual path\n",
        "\n",
        "sponsors_df = pd.read_excel(sponsors_file, sheet_name=\"Sponsors\")\n",
        "delegates_df = pd.read_excel(delegates_file, sheet_name=\"Delegates\")\n",
        "\n",
        "# Convert column names to lowercase for uniformity\n",
        "sponsors_df.columns = sponsors_df.columns.str.lower()\n",
        "delegates_df.columns = delegates_df.columns.str.lower()\n",
        "\n",
        "# Identify truly mutual meetings\n",
        "mutual_meetings = []\n",
        "\n",
        "for sponsor_idx, sponsor_row in sponsors_df.iterrows():\n",
        "    sponsor_name = sponsor_row['sponsor company name'].strip().lower()\n",
        "\n",
        "    for delegate_idx, delegate_row in delegates_df.iterrows():\n",
        "        delegate_name = delegate_row['delegate company name'].strip().lower()\n",
        "\n",
        "        # Check if sponsor wants to meet delegate AND delegate wants to meet sponsor\n",
        "        sponsor_wants_delegate = delegate_name in sponsors_df.columns and pd.notna(sponsor_row.get(delegate_name))\n",
        "        delegate_wants_sponsor = sponsor_name in delegates_df.columns and pd.notna(delegate_row.get(sponsor_name))\n",
        "\n",
        "        if sponsor_wants_delegate and delegate_wants_sponsor:\n",
        "            mutual_meetings.append({\n",
        "                \"Sponsor Name\": sponsor_row['sponsor company name'],\n",
        "                \"Delegate Name\": delegate_row['delegate company name'],\n",
        "                \"Sponsor Contact\": f\"{sponsor_row['first name']} {sponsor_row['last name']}\",\n",
        "                \"Delegate Contact\": f\"{delegate_row['first name']} {delegate_row['last name']}\"\n",
        "            })\n",
        "\n",
        "# Convert results to DataFrame and save to Excel\n",
        "mutual_meetings_df = pd.DataFrame(mutual_meetings)\n",
        "output_file = \"mutual_meetings.xlsx\"\n",
        "mutual_meetings_df.to_excel(output_file, index=False)\n",
        "\n",
        "print(f\"Mutual meetings saved to {output_file}\")\n"
      ]
    },
    {
      "cell_type": "code",
      "source": [
        "import pandas as pd\n",
        "\n",
        "# Load Excel files\n",
        "sponsors_file = \"sponsors.xlsx\"  # Update with actual path\n",
        "delegates_file = \"Delegate.xlsx\"  # Update with actual path\n",
        "\n",
        "sponsors_df = pd.read_excel(sponsors_file, sheet_name=\"Sponsors\")\n",
        "delegates_df = pd.read_excel(delegates_file, sheet_name=\"Delegates\")\n",
        "\n",
        "# Convert column names to lowercase for uniformity\n",
        "sponsors_df.columns = sponsors_df.columns.str.lower()\n",
        "delegates_df.columns = delegates_df.columns.str.lower()\n",
        "\n",
        "# Identify truly mutual meetings\n",
        "mutual_meetings = []\n",
        "\n",
        "for sponsor_idx, sponsor_row in sponsors_df.iterrows():\n",
        "    sponsor_name = sponsor_row['sponsor company name'].strip().lower()\n",
        "\n",
        "    for delegate_idx, delegate_row in delegates_df.iterrows():\n",
        "        delegate_name = delegate_row['delegate company name'].strip().lower()\n",
        "\n",
        "        # Check if sponsor wants to meet delegate AND delegate wants to meet sponsor\n",
        "        sponsor_wants_delegate = delegate_name in sponsors_df.columns and pd.notna(sponsor_row.get(delegate_name))\n",
        "        delegate_wants_sponsor = sponsor_name in delegates_df.columns and pd.notna(delegate_row.get(sponsor_name))\n",
        "\n",
        "        if sponsor_wants_delegate and delegate_wants_sponsor:\n",
        "            mutual_meetings.append({\n",
        "                \"Sponsor Name\": sponsor_row['sponsor company name'],\n",
        "                \"Delegate Name\": delegate_row['delegate company name'],\n",
        "                \"Sponsor Contact\": f\"{sponsor_row['first name']} {sponsor_row['last name']}\",\n",
        "                \"Delegate Contact\": f\"{delegate_row['first name']} {delegate_row['last name']}\",\n",
        "                \"Mutual Selection\": \"M\"  # New column for mutual selection\n",
        "            })\n",
        "\n",
        "# Convert results to DataFrame and save to Excel\n",
        "mutual_meetings_df = pd.DataFrame(mutual_meetings)\n",
        "output_file = \"mutual_meetings.xlsx\"\n",
        "mutual_meetings_df.to_excel(output_file, index=False)\n",
        "\n",
        "print(f\"Mutual meetings saved to {output_file}\")\n"
      ],
      "metadata": {
        "colab": {
          "base_uri": "https://localhost:8080/"
        },
        "id": "uPYytYCEcT_v",
        "outputId": "e648f007-42db-424d-98c7-2e819a7f0195"
      },
      "execution_count": 5,
      "outputs": [
        {
          "output_type": "stream",
          "name": "stdout",
          "text": [
            "Mutual meetings saved to mutual_meetings.xlsx\n"
          ]
        }
      ]
    }
  ]
}